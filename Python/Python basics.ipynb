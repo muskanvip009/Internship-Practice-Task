{
 "cells": [
  {
   "cell_type": "markdown",
   "id": "4f709d12-491d-49df-9ab9-62b90261df9c",
   "metadata": {},
   "source": [
    "# PYTHON BASICS"
   ]
  },
  {
   "cell_type": "markdown",
   "id": "3d34b2dd-ce72-4c34-856c-8c8e5978ccb8",
   "metadata": {},
   "source": [
    "## Print the statements "
   ]
  },
  {
   "cell_type": "code",
   "execution_count": 1,
   "id": "602b5dd8-f58e-4952-976f-bdf021bab058",
   "metadata": {},
   "outputs": [
    {
     "name": "stdout",
     "output_type": "stream",
     "text": [
      "5\n"
     ]
    }
   ],
   "source": [
    "print(5)"
   ]
  },
  {
   "cell_type": "code",
   "execution_count": 2,
   "id": "73ed3461-8f44-4023-95d5-14eace17806a",
   "metadata": {},
   "outputs": [
    {
     "name": "stdout",
     "output_type": "stream",
     "text": [
      "hi everyone\n"
     ]
    }
   ],
   "source": [
    "print(\"hi everyone\")"
   ]
  },
  {
   "cell_type": "code",
   "execution_count": 3,
   "id": "b1288d81-6414-423a-a30a-e7d73f18a71e",
   "metadata": {},
   "outputs": [
    {
     "name": "stdout",
     "output_type": "stream",
     "text": [
      "hi everyone\n"
     ]
    }
   ],
   "source": [
    "print('hi everyone')"
   ]
  },
  {
   "cell_type": "code",
   "execution_count": 4,
   "id": "e8fd3b39-0e9a-4525-8d97-ed909385946b",
   "metadata": {},
   "outputs": [
    {
     "data": {
      "text/plain": [
       "15"
      ]
     },
     "execution_count": 4,
     "metadata": {},
     "output_type": "execute_result"
    }
   ],
   "source": [
    "3+12"
   ]
  },
  {
   "cell_type": "code",
   "execution_count": 5,
   "id": "b1765e72-e86e-4f6a-a066-c0c7e576b7ef",
   "metadata": {},
   "outputs": [
    {
     "name": "stdout",
     "output_type": "stream",
     "text": [
      "15\n"
     ]
    }
   ],
   "source": [
    "print(3+12)"
   ]
  },
  {
   "cell_type": "code",
   "execution_count": 6,
   "id": "5e59ba09-8814-434f-ad33-6a1ff096dfb7",
   "metadata": {},
   "outputs": [
    {
     "name": "stdout",
     "output_type": "stream",
     "text": [
      "3+12\n"
     ]
    }
   ],
   "source": [
    "print(\"3+12\")"
   ]
  },
  {
   "cell_type": "code",
   "execution_count": 10,
   "id": "9acabb02-f277-4b66-b6d0-96ea577892dc",
   "metadata": {},
   "outputs": [
    {
     "name": "stdout",
     "output_type": "stream",
     "text": [
      "The value of 4+9 is 13\n"
     ]
    }
   ],
   "source": [
    "print(\"The value of 4+9 is\" ,4+9)  "
   ]
  },
  {
   "cell_type": "code",
   "execution_count": 12,
   "id": "752345c2-d851-4400-a649-af6cb99697e5",
   "metadata": {},
   "outputs": [
    {
     "name": "stdout",
     "output_type": "stream",
     "text": [
      "hi 3 everyone 2\n"
     ]
    }
   ],
   "source": [
    "print(\"hi\",1+2,\"everyone\",'2')"
   ]
  },
  {
   "cell_type": "markdown",
   "id": "dd43948e-54d3-493b-83ac-15a8a87f802e",
   "metadata": {},
   "source": [
    "## SEPARTATORS"
   ]
  },
  {
   "cell_type": "code",
   "execution_count": 18,
   "id": "759c120e-024d-4f4f-8bc4-368564011250",
   "metadata": {},
   "outputs": [
    {
     "name": "stdout",
     "output_type": "stream",
     "text": [
      "welcome to this place\n",
      "welcome to:3:hi\n"
     ]
    }
   ],
   "source": [
    "print(\"welcome to\",end=' ')\n",
    "print(\"this place\")\n",
    "print(\"welcome to\",1+2,\"hi\",sep=\":\")"
   ]
  },
  {
   "cell_type": "markdown",
   "id": "bf049764-854e-4ba9-b400-fa5ba794b2b4",
   "metadata": {},
   "source": [
    "## variables"
   ]
  },
  {
   "cell_type": "markdown",
   "id": "cf9cd5f9-eb4f-48e5-a2f5-4debe834e6dd",
   "metadata": {},
   "source": [
    "It is a block of code that is used to store the data(value)\n",
    "You use the = to assign the values "
   ]
  },
  {
   "cell_type": "code",
   "execution_count": 20,
   "id": "db121917-8be1-425b-8dcf-6ae904930524",
   "metadata": {},
   "outputs": [
    {
     "name": "stdout",
     "output_type": "stream",
     "text": [
      "10\n"
     ]
    }
   ],
   "source": [
    "number = 10 \n",
    "print(number)\n"
   ]
  },
  {
   "cell_type": "markdown",
   "id": "379fb5a4-c2f5-45e2-bfac-ed6fec1da1b5",
   "metadata": {},
   "source": [
    "## DATATYPE"
   ]
  },
  {
   "cell_type": "code",
   "execution_count": 26,
   "id": "196633dc-3d11-4b25-af61-242deac04b63",
   "metadata": {},
   "outputs": [
    {
     "name": "stdout",
     "output_type": "stream",
     "text": [
      "<class 'int'>\n",
      "<class 'float'>\n",
      "<class 'str'>\n",
      "<class 'bool'>\n"
     ]
    }
   ],
   "source": [
    "print( type(number)) \n",
    "print(type(10.23))\n",
    "print(type(\"hi\"))\n",
    "print(type(True))   #  true or false "
   ]
  },
  {
   "cell_type": "markdown",
   "id": "373279cd-dfe3-4343-a577-c5d0a804fcb0",
   "metadata": {},
   "source": [
    "# Operators"
   ]
  },
  {
   "cell_type": "markdown",
   "id": "be19bc93-1cc9-42a4-982d-cbc65def1306",
   "metadata": {},
   "source": [
    "## ARITHEMETIC OPERATORS"
   ]
  },
  {
   "cell_type": "code",
   "execution_count": 32,
   "id": "7de65d26-014c-49a9-8abe-31f5cb162a91",
   "metadata": {},
   "outputs": [
    {
     "name": "stdout",
     "output_type": "stream",
     "text": [
      "SUM OF A + B = 3\n",
      "subtract: -1\n",
      "multiply 2\n",
      "divide 0.5\n",
      "8\n"
     ]
    }
   ],
   "source": [
    "a=1\n",
    "b=2\n",
    "print(\"SUM OF A + B =\",a+b)\n",
    "print(\"subtract:\",a-b)\n",
    "print(\"multiply\",a*b)\n",
    "print(\"divide\",a/b)\n",
    "print(2**3)\n"
   ]
  },
  {
   "cell_type": "markdown",
   "id": "c4400803-8219-4270-9e8a-e91944a153df",
   "metadata": {},
   "source": [
    "## RELATIONAL OPERATORS "
   ]
  },
  {
   "cell_type": "markdown",
   "id": "c3c513a2-ca37-440b-9eca-7d8934630b02",
   "metadata": {},
   "source": [
    "IT IS USE TO COMPARE THE VALUES \n",
    "OUTPUT IS IN FORM OF TRUE OR FALSE \n",
    ">,<,<=,>=,!="
   ]
  },
  {
   "cell_type": "code",
   "execution_count": 34,
   "id": "fd5fd8ae-2961-4653-8b9d-b95570843bef",
   "metadata": {},
   "outputs": [
    {
     "name": "stdout",
     "output_type": "stream",
     "text": [
      "False\n",
      "True\n",
      "True\n",
      "False\n"
     ]
    }
   ],
   "source": [
    "X=1\n",
    "Y=2\n",
    "print(X>Y)   \n",
    "print(X<Y)\n",
    "print(X!=Y)\n",
    "print(X==Y)"
   ]
  },
  {
   "cell_type": "markdown",
   "id": "b4f7a35b-a0b9-4c50-b008-58a099390061",
   "metadata": {},
   "source": [
    "## LOGICAL OPERATORS "
   ]
  },
  {
   "cell_type": "markdown",
   "id": "d0342848-0384-4cfb-b6fb-ba5bc6faa22e",
   "metadata": {},
   "source": [
    "AND -> TRUE ONLY BOTH THE OPERATIONS ARE HAVING TRUE s result\n",
    "OR -> TRUE WHEN ANY ONE THE OPERATIONS IS TRUE\n",
    "NOT -> REVERSE \n",
    "TWO VARIABLES \n"
   ]
  },
  {
   "cell_type": "code",
   "execution_count": 37,
   "id": "e319456d-5489-470a-bf9c-2a924f4edcfe",
   "metadata": {},
   "outputs": [
    {
     "name": "stdout",
     "output_type": "stream",
     "text": [
      "False\n",
      "True\n",
      "False\n"
     ]
    }
   ],
   "source": [
    "num1=True\n",
    "num2=False\n",
    "print(num1 and num2)  \n",
    "print(num1 or num2)\n",
    "print(not num1)"
   ]
  },
  {
   "cell_type": "markdown",
   "id": "42b5de64-8b12-43aa-bfe7-53b05df554c6",
   "metadata": {},
   "source": [
    "COMPOUND OPERARTORS   =,+=,-= "
   ]
  },
  {
   "cell_type": "code",
   "execution_count": 38,
   "id": "5b60662d-31a9-4929-bd8c-4f8d776321ea",
   "metadata": {},
   "outputs": [],
   "source": [
    "x=3\n",
    "x=x+2\n",
    "x+=2\n",
    "x=x-2   \n",
    "x-=2"
   ]
  },
  {
   "cell_type": "markdown",
   "id": "8c098be8-f83f-4e39-a746-7216e77da711",
   "metadata": {},
   "source": [
    "# STRINGS"
   ]
  },
  {
   "cell_type": "markdown",
   "id": "79be2cba-1929-4234-9152-5637bffbd33a",
   "metadata": {},
   "source": [
    "It is collection of sequence of characters \n",
    "syntax> double braces or single braces\n"
   ]
  },
  {
   "cell_type": "code",
   "execution_count": 45,
   "id": "d69ba9d9-0f1e-4c09-8549-ef8f1aa203f4",
   "metadata": {},
   "outputs": [
    {
     "name": "stdout",
     "output_type": "stream",
     "text": [
      "Wed\n",
      "sda\n",
      "Wednesday\n",
      "Wednesday\n",
      "Wdedy\n"
     ]
    }
   ],
   "source": [
    "day=\"Wednesday\"\n",
    "\n",
    "# SLICING ->  STRING_NAME[START INDEX: END INDEX: SKIP INDEX]\n",
    "print(day[0:3])\n",
    "print(day[-4:-1])\n",
    "\n",
    "print(day[ : ])\n",
    "print(day[0:9])\n",
    "\n",
    "print(day[0:9:2])"
   ]
  },
  {
   "cell_type": "code",
   "execution_count": 46,
   "id": "24b105a0-d6ab-451b-8885-8922ed88e194",
   "metadata": {},
   "outputs": [
    {
     "name": "stdout",
     "output_type": "stream",
     "text": [
      "9\n"
     ]
    }
   ],
   "source": [
    "print(len(day))"
   ]
  },
  {
   "cell_type": "code",
   "execution_count": 60,
   "id": "8e48a830-9068-43b9-af3f-bad445b586ed",
   "metadata": {},
   "outputs": [
    {
     "name": "stdout",
     "output_type": "stream",
     "text": [
      "True\n",
      "True\n",
      "False\n",
      "True\n",
      "False\n",
      "False\n"
     ]
    }
   ],
   "source": [
    "a=\"asdf\"\n",
    "print(a.isalnum())   # is our string is alpha numeric \n",
    "print(a.isalpha())\n",
    "print(a.isdigit())\n",
    "print(a.islower())\n",
    "print(a.isupper())\n",
    "print(a.istitle())"
   ]
  },
  {
   "cell_type": "code",
   "execution_count": 63,
   "id": "36f3eab0-8573-4505-801e-0e509640b0a5",
   "metadata": {},
   "outputs": [
    {
     "data": {
      "text/plain": [
       "'Wednesday'"
      ]
     },
     "execution_count": 63,
     "metadata": {},
     "output_type": "execute_result"
    }
   ],
   "source": [
    "day.lower()\n",
    "day.upper()\n",
    "day.title()"
   ]
  },
  {
   "cell_type": "markdown",
   "id": "c1445936",
   "metadata": {},
   "source": [
    "# Functions "
   ]
  },
  {
   "cell_type": "markdown",
   "id": "4d7c145f",
   "metadata": {},
   "source": [
    "Area Calculator:\n",
    "Create a function Calculate_area(shape, dimensions) that takes the shape (e.g., \"rectangle\", \"circle\") and its dimensions as arguments.\n",
    "The function should calculate the area based on the shape and return the result.\n",
    "Implement logic for handling different shapes (rectangle, circle) and their corresponding dimensions (length, width for rectangle; radius for circle)."
   ]
  },
  {
   "cell_type": "code",
   "execution_count": 5,
   "id": "e5523145",
   "metadata": {},
   "outputs": [
    {
     "name": "stdout",
     "output_type": "stream",
     "text": [
      "Rectangle area: 15\n",
      "Circle area: 50.26548245743669\n"
     ]
    }
   ],
   "source": [
    "import math\n",
    "\n",
    "def calculate_area(shape, dimensions):\n",
    "    if shape.lower() == \"rectangle\":\n",
    "        if len(dimensions) != 2:\n",
    "            return \"Error: Rectangle requires length and width.\"\n",
    "        length, width = dimensions\n",
    "        return length * width\n",
    "    elif shape.lower() == \"circle\":\n",
    "        if len(dimensions) != 1:\n",
    "            return \"Error: Circle requires radius.\"\n",
    "        radius = dimensions[0]\n",
    "        return math.pi * radius ** 2\n",
    "    else:\n",
    "        return \"Error: Unsupported shape.\"\n",
    "\n",
    "rectangle_area = calculate_area(\"rectangle\", [5, 3])\n",
    "print(f\"Rectangle area: {rectangle_area}\")\n",
    "\n",
    "# Circle with radius 4\n",
    "circle_area = calculate_area(\"circle\", [4])\n",
    "print(f\"Circle area: {circle_area}\")\n"
   ]
  },
  {
   "cell_type": "markdown",
   "id": "5482aa33",
   "metadata": {},
   "source": [
    "Create a function reverse_words(text) that takes a string as input.\n",
    "The function should reverse the order of words in the string while maintaining the order of characters within each word. -Return the modified string."
   ]
  },
  {
   "cell_type": "code",
   "execution_count": 4,
   "id": "97eec2a5",
   "metadata": {},
   "outputs": [
    {
     "name": "stdout",
     "output_type": "stream",
     "text": [
      "gnirts\n"
     ]
    }
   ],
   "source": [
    "def reverse_words(text):\n",
    "    return text[::-1]\n",
    "\n",
    "text=reverse_words(\"string\")\n",
    "print(text)"
   ]
  },
  {
   "cell_type": "markdown",
   "id": "020c83f3",
   "metadata": {},
   "source": [
    "List Statistics:\n",
    "Create a function analyze_list(numbers) that takes a list of numbers as input.\n",
    "The function should calculate and return the following in a dictionary:\n",
    "Minimum value in the list\n",
    "Maximum value in the list\n",
    "Average value in the list (use sum and division)\n",
    "Use a dictionary to store and return the calculated statistics."
   ]
  },
  {
   "cell_type": "code",
   "execution_count": 3,
   "id": "22497947",
   "metadata": {},
   "outputs": [
    {
     "name": "stdout",
     "output_type": "stream",
     "text": [
      "{'min': 10, 'max': 50, 'average': 30.0}\n"
     ]
    }
   ],
   "source": [
    "def analyze_list(numbers):\n",
    "    if not numbers:  # Check if the list is empty\n",
    "        return {\"min\": None, \"max\": None, \"average\": None}\n",
    "\n",
    "    min_value = min(numbers)\n",
    "    max_value = max(numbers)\n",
    "    average_value = sum(numbers) / len(numbers)\n",
    "\n",
    "    return {\n",
    "        \"min\": min_value,\n",
    "        \"max\": max_value,\n",
    "        \"average\": average_value\n",
    "    }\n",
    "\n",
    "# Example usage:\n",
    "numbers = [10, 20, 30, 40, 50]\n",
    "statistics = analyze_list(numbers)\n",
    "print(statistics)\n"
   ]
  },
  {
   "cell_type": "markdown",
   "id": "4329f892",
   "metadata": {},
   "source": [
    "Filtering with Lambda:\n",
    "Create a list of product names (strings).\n",
    "Define a function filter_short_names(names, max_length) that takes the list of names and a maximum length as arguments.\n",
    "Use filter with a lambda function to return a new list containing only names shorter than the provided max_length.\n",
    "Hint: The lambda function should check the length of each name and return True if it's less than max_length."
   ]
  },
  {
   "cell_type": "code",
   "execution_count": 2,
   "id": "c11998e0",
   "metadata": {},
   "outputs": [
    {
     "name": "stdout",
     "output_type": "stream",
     "text": [
      "['Laptop', 'Mouse']\n"
     ]
    }
   ],
   "source": [
    "def filter_short_names(names, max_length):\n",
    "    return list(filter(lambda name: len(name) < max_length, names))\n",
    "\n",
    "# Example usage:\n",
    "product_names = [\"Laptop\", \"Mouse\", \"Keyboard\", \"Monitor\", \"USB Cable\"]\n",
    "max_length = 7\n",
    "short_names = filter_short_names(product_names, max_length)\n",
    "print(short_names)\n"
   ]
  },
  {
   "cell_type": "markdown",
   "id": "1765f567",
   "metadata": {},
   "source": [
    "Text Analyzer (Bonus Challenge):\n",
    "Create a function analyze_text(text) that takes a block of text as input.\n",
    "The function should:\n",
    "Count the number of words in the text (split by whitespace).\n",
    "Count the number of characters (excluding whitespaces).\n",
    "Find the most frequent word (you can assume case-insensitive matching for simplicity).\n",
    "Return a dictionary containing these counts and the most frequent word."
   ]
  },
  {
   "cell_type": "code",
   "execution_count": 1,
   "id": "d53d43a2",
   "metadata": {},
   "outputs": [
    {
     "name": "stdout",
     "output_type": "stream",
     "text": [
      "{'word_count': 8, 'char_count': 38, 'most_frequent_word': 'the'}\n"
     ]
    }
   ],
   "source": [
    "def analyze_text(text):\n",
    "    # Count the number of words in the text\n",
    "    words = text.split()\n",
    "    word_count = len(words)\n",
    "    \n",
    "    # Count the number of characters (excluding whitespaces)\n",
    "    char_count = sum(len(word) for word in words)\n",
    "    \n",
    "    # Find the most frequent word (case-insensitive)\n",
    "    word_frequencies = {}\n",
    "    for word in words:\n",
    "        word_lower = word.lower()\n",
    "        if word_lower in word_frequencies:\n",
    "            word_frequencies[word_lower] += 1\n",
    "        else:\n",
    "            word_frequencies[word_lower] = 1\n",
    "    \n",
    "    most_frequent_word = max(word_frequencies, key=word_frequencies.get, default=None) if word_frequencies else None\n",
    "\n",
    "    return {\n",
    "        \"word_count\": word_count,\n",
    "        \"char_count\": char_count,\n",
    "        \"most_frequent_word\": most_frequent_word\n",
    "    }\n",
    "\n",
    "text = \"this code counts the number of the characters \"\n",
    "analysis = analyze_text(text)\n",
    "print(analysis)\n"
   ]
  },
  {
   "cell_type": "markdown",
   "id": "f85a1d30-0cbf-44b0-830e-b076fdebe23f",
   "metadata": {},
   "source": [
    "# Data structure "
   ]
  },
  {
   "cell_type": "markdown",
   "id": "3c9e3711-7f1b-410d-8245-edee8f870c36",
   "metadata": {},
   "source": [
    "4 types of ds:\n",
    "LIST \n",
    "SET \n",
    "TUPLE \n",
    "DICTIONARY "
   ]
  },
  {
   "cell_type": "markdown",
   "id": "52d6d58b-ee00-4f46-908f-33a9688f6e44",
   "metadata": {},
   "source": [
    "## list \n",
    "List is data type(structure ) that is used to group values together\n",
    "Features of the list:\n",
    "1.Ordered \n",
    "2.Changeable \n",
    "3.Allow duplicate elements \n",
    "\n",
    "### syntax  =  [  ]  square braces "
   ]
  },
  {
   "cell_type": "code",
   "execution_count": 4,
   "id": "27647dab-9e99-4c8f-bdce-c03348a8ea64",
   "metadata": {},
   "outputs": [
    {
     "name": "stdout",
     "output_type": "stream",
     "text": [
      "[1, 'DS', 2, '3', True]\n"
     ]
    }
   ],
   "source": [
    "list1=[1,\"DS\",2,\"3\",True]\n",
    "print(list1)"
   ]
  },
  {
   "cell_type": "code",
   "execution_count": 5,
   "id": "14996e8f-d036-4699-b3ed-c0726c788774",
   "metadata": {},
   "outputs": [
    {
     "name": "stdout",
     "output_type": "stream",
     "text": [
      "5\n"
     ]
    }
   ],
   "source": [
    "print(len(list1))"
   ]
  },
  {
   "cell_type": "code",
   "execution_count": 9,
   "id": "346cd55c-1af2-4f26-9b40-41a3463106ca",
   "metadata": {},
   "outputs": [
    {
     "name": "stdout",
     "output_type": "stream",
     "text": [
      "56\n",
      "23\n",
      "210\n"
     ]
    }
   ],
   "source": [
    "list2=[34,56,23,43,54]\n",
    "print(max(list2))\n",
    "print(min(list2))\n",
    "print(sum(list2))"
   ]
  },
  {
   "cell_type": "markdown",
   "id": "98d672c2-bdf0-468f-9386-2a4628a76991",
   "metadata": {},
   "source": [
    "## INSERT THE DATA INSIDE THE LIST "
   ]
  },
  {
   "cell_type": "code",
   "execution_count": 12,
   "id": "a49c67e1-d083-4bfd-9ee5-47dc9ee1422c",
   "metadata": {},
   "outputs": [
    {
     "name": "stdout",
     "output_type": "stream",
     "text": [
      "[34, 56, 100, 23, 43, 54, 30, 30]\n"
     ]
    }
   ],
   "source": [
    "# APPEND -> IT WILL ADD THE ELEMENT AT THE END OF THE LIST \n",
    "list2.append(30)\n",
    "# insert (index,element)\n",
    "list2.insert(2,100)\n",
    "print(list2)\n",
    "# extend ->add a list inside a list "
   ]
  },
  {
   "cell_type": "code",
   "execution_count": 13,
   "id": "9ae6fd35-1dfc-4188-a878-b4c2edc3cf84",
   "metadata": {},
   "outputs": [
    {
     "name": "stdout",
     "output_type": "stream",
     "text": [
      "[34, 56, 100, 23, 43, 54, 30, 30, 101, 102]\n"
     ]
    }
   ],
   "source": [
    "l3=[101,102]\n",
    "list2.extend(l3)\n",
    "print(list2)"
   ]
  },
  {
   "cell_type": "markdown",
   "id": "9a032cb6-a897-4792-a65c-d81984b3f4be",
   "metadata": {},
   "source": [
    "## Deletion of the elements"
   ]
  },
  {
   "cell_type": "code",
   "execution_count": 16,
   "id": "46431f21-6244-4596-ac5e-2dafb2f667fa",
   "metadata": {},
   "outputs": [
    {
     "name": "stdout",
     "output_type": "stream",
     "text": [
      "30\n",
      "[34, 56, 100, 23, 30, 101]\n"
     ]
    }
   ],
   "source": [
    "# pop method \n",
    "# pop(index of ele to remove)\n",
    "print(list2.pop(4))\n",
    "print(list2)\n"
   ]
  },
  {
   "cell_type": "code",
   "execution_count": 20,
   "id": "73fc2283-a8a2-41fe-aa79-efc88b5bd5ad",
   "metadata": {},
   "outputs": [
    {
     "name": "stdout",
     "output_type": "stream",
     "text": [
      "100\n",
      "[32, 43, 93]\n",
      "[32, 43]\n"
     ]
    }
   ],
   "source": [
    "list5=[32,43,56,93,100]\n",
    "list5.pop(2)\n",
    "print(list5.pop())\n",
    "print(list5)\n",
    "\n",
    "# remove method if we want to remvoe on the basis of value \n",
    "list5.remove(93)\n",
    "print(list5)"
   ]
  },
  {
   "cell_type": "code",
   "execution_count": 21,
   "id": "91fe7c8b-4f27-4e2d-a0e1-5563c3d29ede",
   "metadata": {},
   "outputs": [
    {
     "name": "stdout",
     "output_type": "stream",
     "text": [
      "2\n"
     ]
    }
   ],
   "source": [
    "l=[1,2,3,23,3,2,2,3,1]\n",
    "print(l.count(1))"
   ]
  },
  {
   "cell_type": "code",
   "execution_count": 22,
   "id": "b7db8576-59a1-4df4-9475-bca4eb0f613e",
   "metadata": {},
   "outputs": [
    {
     "name": "stdout",
     "output_type": "stream",
     "text": [
      "3\n"
     ]
    }
   ],
   "source": [
    "print(l.index(23))"
   ]
  },
  {
   "cell_type": "code",
   "execution_count": 24,
   "id": "b65ad566-f0b7-4d8d-a211-d4ab58875c3a",
   "metadata": {},
   "outputs": [
    {
     "name": "stdout",
     "output_type": "stream",
     "text": [
      "[1, 1, 2, 2, 2, 3, 3, 3, 23]\n"
     ]
    }
   ],
   "source": [
    "l.sort()\n",
    "print(l)"
   ]
  },
  {
   "cell_type": "code",
   "execution_count": 25,
   "id": "11fdb11f-60b7-4f88-9a25-91d1c180db37",
   "metadata": {},
   "outputs": [
    {
     "name": "stdout",
     "output_type": "stream",
     "text": [
      "[23, 3, 3, 3, 2, 2, 2, 1, 1]\n"
     ]
    }
   ],
   "source": [
    "l.reverse()\n",
    "print(l)"
   ]
  },
  {
   "cell_type": "markdown",
   "id": "de6c1d62-6a96-4f9c-8a2d-a75acbd4ac88",
   "metadata": {},
   "source": [
    "# SET"
   ]
  },
  {
   "cell_type": "markdown",
   "id": "7fbd37d3-cefd-4d52-94b5-03ca4aee8987",
   "metadata": {},
   "source": [
    "Unordered collection of the data \n",
    "Change the value of elements \n",
    "No duplicate elements \n",
    "Unidexed(you cant access the set eleemnts with the index )\n",
    "You can add different data type inside a single set \n",
    "syntax=  { }"
   ]
  },
  {
   "cell_type": "code",
   "execution_count": 40,
   "id": "46caf9c5-51d3-49db-ab3e-2f53d26e83c2",
   "metadata": {},
   "outputs": [
    {
     "name": "stdout",
     "output_type": "stream",
     "text": [
      "{'excel', 1, 'powerbi', 'DS', 'DA', 'ML'}\n",
      "{'excel', 1, 3, 4, 5, 6}\n",
      "{1, 3, 4, 5, 6, 'DS', 'DA', 'ML', 'excel', 'powerbi'}\n",
      "{'excel', 1}\n",
      "{1, 2, 3}\n"
     ]
    }
   ],
   "source": [
    "set1={'ML','DS',1,2,'DA'}\n",
    "# print(set1)\n",
    "# print(type(set1))\n",
    "\n",
    "#  add element in set \n",
    "set1.add(\"powerbi\")\n",
    "# print(set1)\n",
    "\n",
    "set1.add(\"excel\")\n",
    "# print(set1)\n",
    "\n",
    "# remove element in set \n",
    "set1.remove(2)\n",
    "# print(set1)\n",
    "\n",
    "\n",
    "# methods of the set \n",
    "\n",
    "# 1. UNION   - combining the values of the set \n",
    "print(set1)\n",
    "set2={3,4,5,6,1,\"excel\"}\n",
    "print(set2)\n",
    "\n",
    "print(set1.union(set2))\n",
    "print(set1.intersection(set2))\n",
    "\n",
    "set5={1,2,2,2,3,3,3,3,3,3,3}\n",
    "print(set5)\n"
   ]
  },
  {
   "cell_type": "markdown",
   "id": "70f1b1b1-ad87-4bb6-9da7-f81de2a93272",
   "metadata": {},
   "source": [
    "## TUPLES"
   ]
  },
  {
   "cell_type": "code",
   "execution_count": null,
   "id": "71257f2d-d5f9-4340-adac-89818d3a1eaf",
   "metadata": {},
   "outputs": [],
   "source": [
    "Ordered \n",
    "Unchangeable \n",
    "Indexed \n",
    "Allow duplicate values \n",
    "\n",
    "syntax ->      (  )"
   ]
  },
  {
   "cell_type": "code",
   "execution_count": 47,
   "id": "9f64cc6b-ff0b-45f1-8c2f-60e1d68978d0",
   "metadata": {},
   "outputs": [
    {
     "name": "stdout",
     "output_type": "stream",
     "text": [
      "('ml', 'ds', 2, 3)\n",
      "2\n",
      "<class 'list'>\n",
      "['ml', 'ds', 2, 3]\n",
      "['ml', 'ds', 2, 3, 40, 'excel']\n",
      "<class 'tuple'>\n"
     ]
    }
   ],
   "source": [
    "tup1=('ml','ds',2,3)\n",
    "print(tup1)\n",
    "\n",
    "print(tup1[2])\n",
    "\n",
    "# there is no way to add or remove things inside the tuple means once the tuple is declared you cant add elements inside \n",
    "\n",
    "y=list(tup1)\n",
    "print(type(y))\n",
    "print(y)\n",
    "\n",
    "y.append(40)\n",
    "y.append('excel')\n",
    "print(y)\n",
    "\n",
    "x=tuple(y)\n",
    "print(type(x))"
   ]
  },
  {
   "cell_type": "markdown",
   "id": "bca4ce82-d29c-4e0f-beda-186cfc181c6e",
   "metadata": {},
   "source": [
    "## DICTIONARY "
   ]
  },
  {
   "cell_type": "code",
   "execution_count": 61,
   "id": "58767ea5-a5a6-474c-827a-77ede1836c73",
   "metadata": {},
   "outputs": [
    {
     "name": "stdout",
     "output_type": "stream",
     "text": [
      "{'tool1': 'powerbi', 'tool2': 'excel2'}\n",
      "tool1\n",
      "tool2\n",
      "powerbi\n",
      "excel2\n",
      "('tool1', 'powerbi')\n",
      "('tool2', 'excel2')\n",
      "{'tool1': 'powerbi', 'tool2': 'excel2', 'key4': 'value4'}\n",
      "{'tool1': {'python': 'language', 'c': 'lang2'}, 'tool2': {'ml': 'algo', 'ds': 'analyze'}}\n"
     ]
    }
   ],
   "source": [
    "# key-value pair\n",
    "# Syntax -> { key1:value1 , key2:value2 }\n",
    "# there must be unique value of the key \n",
    "# in place of index we are having key values \n",
    "dict1={\"tool1\":\"powerbi\",\"tool2\":\"excel\",\"tool2\":\"excel2\"}\n",
    "print(dict1)\n",
    "\n",
    "# print(dict1[\"tool2\"])\n",
    "\n",
    "for x in dict1:   #  this is a loop if you want to traverse \n",
    "    print(x)  # key value \n",
    "\n",
    "# print the value of the key\n",
    "for x in dict1.values():\n",
    "    print(x)\n",
    "    \n",
    "# print both the key & value\n",
    "for x in dict1.items():\n",
    "    print(x)\n",
    "\n",
    "# add elements in dict \n",
    "dict1['key4']='value4'\n",
    "print(dict1)\n",
    "\n",
    "# nested dictionary -> dict inside a dictionary \n",
    "\n",
    "t1={\"python\":\"language\",\"c\":\"lang2\"}\n",
    "t2={\"ml\":\"algo\",\"ds\":\"analyze\"}\n",
    "       \n",
    "tools={\"tool1\":t1,\"tool2\":t2   }\n",
    "print(tools)\n"
   ]
  },
  {
   "cell_type": "code",
   "execution_count": 63,
   "id": "d90e86fc-186a-4121-8324-75fe10e7e2a8",
   "metadata": {},
   "outputs": [
    {
     "name": "stdout",
     "output_type": "stream",
     "text": [
      "1\n",
      "2\n",
      "3\n",
      "4\n",
      "4\n",
      "5\n"
     ]
    }
   ],
   "source": [
    "# for method -> traverse inside the datatype list,tuple,dictionary \n",
    "\n",
    "l=[1,2,3,4,4,5]\n",
    "\n",
    "for number in l :\n",
    "    print(number)"
   ]
  },
  {
   "cell_type": "code",
   "execution_count": null,
   "id": "065c9dee-9c6f-488f-b216-709f496e7a0c",
   "metadata": {},
   "outputs": [],
   "source": []
  }
 ],
 "metadata": {
  "kernelspec": {
   "display_name": "Python 3 (ipykernel)",
   "language": "python",
   "name": "python3"
  },
  "language_info": {
   "codemirror_mode": {
    "name": "ipython",
    "version": 3
   },
   "file_extension": ".py",
   "mimetype": "text/x-python",
   "name": "python",
   "nbconvert_exporter": "python",
   "pygments_lexer": "ipython3",
   "version": "3.12.3"
  }
 },
 "nbformat": 4,
 "nbformat_minor": 5
}
