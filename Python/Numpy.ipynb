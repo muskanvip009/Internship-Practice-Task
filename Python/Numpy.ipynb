{
 "cells": [
  {
   "cell_type": "markdown",
   "id": "69c1710c",
   "metadata": {},
   "source": [
    "# Numpy\n",
    "It is a general purpose array processing package. It provides high performance multi dimensional array object and tools for working with these arrays. It is the fundamental package for scientific computing with Python\n",
    "\n",
    "#### What is an array?\n",
    "Data structure that stores values of same data type. While lists can store values of different data types, arrays can only contain values of same data type\n",
    "\n",
    "\n",
    "### Python Lists\n",
    "1) Element Overhead: Lists in Python store additional information about each element, such as its type and reference count. This overhead can be significant when dealing with a large number of elements.\n",
    "2) Datatype: Lists can hold different data types, but this can decrease memory efficiency and slow numerical operations.\n",
    "3) Memory Fragmentation: Lists may not store elements in contiguous memory locations, causing memory fragmentation and inefficiency.\n",
    "4) Performance: Lists are not optimized for numerical computations and may have slower mathematical operations due to Python’s interpretation overhead. They are generally used as general-purpose data structures.\n",
    "Functionality: Lists can store any data type, but lack specialized NumPy functions for numerical operations.\n",
    "\n",
    "### Numpy Array\n",
    "1) Homogeneous Data: NumPy arrays store elements of the same data type, making them more compact and memory-efficient than lists.\n",
    "2) Fixed Data Type: NumPy arrays have a fixed data type, reducing memory overhead by eliminating the need to store type information for each element.\n",
    "3) Contiguous Memory: NumPy arrays store elements in adjacent memory locations, reducing fragmentation and allowing for efficient access.\n",
    "4) Array Metadata: NumPy arrays have extra metadata like shape, strides, and data type. However, this overhead is usually smaller than the per-element overhead in lists.\n",
    "5) Performance: NumPy arrays are optimized for numerical computations, with efficient element-wise operations and mathematical functions. These operations are implemented in C, resulting in faster performance than equivalent operations on lists.\n"
   ]
  },
  {
   "cell_type": "code",
   "execution_count": 4,
   "id": "af002a20",
   "metadata": {},
   "outputs": [],
   "source": [
    "import numpy as np"
   ]
  },
  {
   "cell_type": "code",
   "execution_count": 5,
   "id": "920719b7",
   "metadata": {},
   "outputs": [
    {
     "data": {
      "text/plain": [
       "array([1, 2, 3, 4, 5])"
      ]
     },
     "execution_count": 5,
     "metadata": {},
     "output_type": "execute_result"
    }
   ],
   "source": [
    "list1 = [1,2,3,4,5]\n",
    "\n",
    "arr = np.array(list1)\n",
    "\n",
    "arr"
   ]
  },
  {
   "cell_type": "code",
   "execution_count": 12,
   "id": "e117404d",
   "metadata": {},
   "outputs": [
    {
     "data": {
      "text/plain": [
       "numpy.ndarray"
      ]
     },
     "execution_count": 12,
     "metadata": {},
     "output_type": "execute_result"
    }
   ],
   "source": [
    "type(arr)"
   ]
  },
  {
   "cell_type": "code",
   "execution_count": 13,
   "id": "68c17995",
   "metadata": {},
   "outputs": [
    {
     "data": {
      "text/plain": [
       "(5,)"
      ]
     },
     "execution_count": 13,
     "metadata": {},
     "output_type": "execute_result"
    }
   ],
   "source": [
    "arr.shape"
   ]
  },
  {
   "cell_type": "code",
   "execution_count": 16,
   "id": "bb324f3a",
   "metadata": {},
   "outputs": [
    {
     "name": "stdout",
     "output_type": "stream",
     "text": [
      "[[ 1  2  3  4  5]\n",
      " [ 6  7  8  9 10]\n",
      " [11 12 13 14 15]]\n"
     ]
    }
   ],
   "source": [
    "# Miltinested array\n",
    "\n",
    "list1 = [1,2,3,4,5]\n",
    "list2 = [6,7,8,9,10]\n",
    "list3 = [11,12,13,14,15]\n",
    "\n",
    "arr = np.array([list1,list2,list3])\n",
    "\n",
    "print(arr)"
   ]
  },
  {
   "cell_type": "code",
   "execution_count": 17,
   "id": "e49ae212",
   "metadata": {},
   "outputs": [
    {
     "data": {
      "text/plain": [
       "(3, 5)"
      ]
     },
     "execution_count": 17,
     "metadata": {},
     "output_type": "execute_result"
    }
   ],
   "source": [
    "arr.shape"
   ]
  },
  {
   "cell_type": "code",
   "execution_count": 30,
   "id": "770e47e1",
   "metadata": {},
   "outputs": [
    {
     "data": {
      "text/plain": [
       "array([[ 1,  2,  3],\n",
       "       [ 4,  5,  6],\n",
       "       [ 7,  8,  9],\n",
       "       [10, 11, 12],\n",
       "       [13, 14, 15]])"
      ]
     },
     "execution_count": 30,
     "metadata": {},
     "output_type": "execute_result"
    }
   ],
   "source": [
    "arr = arr.reshape(5,3)\n",
    "\n",
    "arr"
   ]
  },
  {
   "cell_type": "code",
   "execution_count": 29,
   "id": "d2bb9dd6",
   "metadata": {},
   "outputs": [
    {
     "data": {
      "text/plain": [
       "array([7, 8, 9])"
      ]
     },
     "execution_count": 29,
     "metadata": {},
     "output_type": "execute_result"
    }
   ],
   "source": [
    "arr[2]"
   ]
  },
  {
   "cell_type": "code",
   "execution_count": 31,
   "id": "2acab36e",
   "metadata": {},
   "outputs": [
    {
     "data": {
      "text/plain": [
       "8"
      ]
     },
     "execution_count": 31,
     "metadata": {},
     "output_type": "execute_result"
    }
   ],
   "source": [
    "arr[2][1]"
   ]
  },
  {
   "cell_type": "code",
   "execution_count": 33,
   "id": "ad4ca6f4",
   "metadata": {},
   "outputs": [
    {
     "data": {
      "text/plain": [
       "8"
      ]
     },
     "execution_count": 33,
     "metadata": {},
     "output_type": "execute_result"
    }
   ],
   "source": [
    "arr[2,1] #arr[row,column]"
   ]
  },
  {
   "cell_type": "code",
   "execution_count": 35,
   "id": "ad63e6a3",
   "metadata": {},
   "outputs": [
    {
     "data": {
      "text/plain": [
       "array([[ 1,  2,  3],\n",
       "       [ 4,  5,  6],\n",
       "       [ 7,  8,  9],\n",
       "       [10, 11, 12],\n",
       "       [13, 14, 15]])"
      ]
     },
     "execution_count": 35,
     "metadata": {},
     "output_type": "execute_result"
    }
   ],
   "source": [
    "arr[:,:] #Will retrieve whole data"
   ]
  },
  {
   "cell_type": "code",
   "execution_count": 36,
   "id": "a15bf637",
   "metadata": {},
   "outputs": [
    {
     "data": {
      "text/plain": [
       "array([[ 8,  9],\n",
       "       [11, 12],\n",
       "       [14, 15]])"
      ]
     },
     "execution_count": 36,
     "metadata": {},
     "output_type": "execute_result"
    }
   ],
   "source": [
    "arr[2:,1:]"
   ]
  },
  {
   "cell_type": "code",
   "execution_count": 37,
   "id": "32995d5d",
   "metadata": {},
   "outputs": [
    {
     "data": {
      "text/plain": [
       "array([[4, 5],\n",
       "       [7, 8]])"
      ]
     },
     "execution_count": 37,
     "metadata": {},
     "output_type": "execute_result"
    }
   ],
   "source": [
    "arr[1:3,0:2]"
   ]
  },
  {
   "cell_type": "code",
   "execution_count": 54,
   "id": "22899cc5",
   "metadata": {},
   "outputs": [
    {
     "data": {
      "text/plain": [
       "array([0, 2, 4, 6, 8])"
      ]
     },
     "execution_count": 54,
     "metadata": {},
     "output_type": "execute_result"
    }
   ],
   "source": [
    "arr = np.arange(0,10,2)\n",
    "\n",
    "arr"
   ]
  },
  {
   "cell_type": "code",
   "execution_count": 55,
   "id": "6f79a4b2",
   "metadata": {},
   "outputs": [
    {
     "data": {
      "text/plain": [
       "array([ 0.        ,  0.20408163,  0.40816327,  0.6122449 ,  0.81632653,\n",
       "        1.02040816,  1.2244898 ,  1.42857143,  1.63265306,  1.83673469,\n",
       "        2.04081633,  2.24489796,  2.44897959,  2.65306122,  2.85714286,\n",
       "        3.06122449,  3.26530612,  3.46938776,  3.67346939,  3.87755102,\n",
       "        4.08163265,  4.28571429,  4.48979592,  4.69387755,  4.89795918,\n",
       "        5.10204082,  5.30612245,  5.51020408,  5.71428571,  5.91836735,\n",
       "        6.12244898,  6.32653061,  6.53061224,  6.73469388,  6.93877551,\n",
       "        7.14285714,  7.34693878,  7.55102041,  7.75510204,  7.95918367,\n",
       "        8.16326531,  8.36734694,  8.57142857,  8.7755102 ,  8.97959184,\n",
       "        9.18367347,  9.3877551 ,  9.59183673,  9.79591837, 10.        ])"
      ]
     },
     "execution_count": 55,
     "metadata": {},
     "output_type": "execute_result"
    }
   ],
   "source": [
    "np.linspace(0,10,50) #Generates 50 numbers between 0 and 10"
   ]
  },
  {
   "cell_type": "code",
   "execution_count": 56,
   "id": "f47c473d",
   "metadata": {},
   "outputs": [
    {
     "data": {
      "text/plain": [
       "array([  0,   2, 100, 100, 100])"
      ]
     },
     "execution_count": 56,
     "metadata": {},
     "output_type": "execute_result"
    }
   ],
   "source": [
    "arr[2:] = 100\n",
    "\n",
    "arr"
   ]
  },
  {
   "cell_type": "code",
   "execution_count": 7,
   "id": "1df60e3b",
   "metadata": {},
   "outputs": [
    {
     "name": "stdout",
     "output_type": "stream",
     "text": [
      "[  1   2 200 200 200]\n",
      "[  1   2 200 200 200]\n"
     ]
    }
   ],
   "source": [
    "arr1 = arr #arr1 is reference of arr, and they share same memory. Any operation we do on 1 array will impact another array.\n",
    "\n",
    "arr1[2:] = 200 #This will also change values in arr array, as arr1 is a reference of arr\n",
    "\n",
    "print(arr1)\n",
    "print(arr)"
   ]
  },
  {
   "cell_type": "code",
   "execution_count": 8,
   "id": "23406522",
   "metadata": {},
   "outputs": [
    {
     "name": "stdout",
     "output_type": "stream",
     "text": [
      "[[  1]\n",
      " [  2]\n",
      " [200]\n",
      " [200]\n",
      " [200]]\n",
      "[  1   2 200 200 200]\n"
     ]
    }
   ],
   "source": [
    "arr1 = arr1.reshape(5,1) #Reshape would not be effective on arr as shape values might be saved differently for the 2 arrays\n",
    "\n",
    "print(arr1)\n",
    "print(arr)"
   ]
  },
  {
   "cell_type": "code",
   "execution_count": 78,
   "id": "5e38bd75",
   "metadata": {},
   "outputs": [],
   "source": [
    "arr1[2,0] = 5"
   ]
  },
  {
   "cell_type": "code",
   "execution_count": 80,
   "id": "27f05468",
   "metadata": {},
   "outputs": [
    {
     "data": {
      "text/plain": [
       "array([  0,   2,   5, 200, 200])"
      ]
     },
     "execution_count": 80,
     "metadata": {},
     "output_type": "execute_result"
    }
   ],
   "source": [
    "arr"
   ]
  },
  {
   "cell_type": "code",
   "execution_count": 86,
   "id": "a2bb84a2",
   "metadata": {},
   "outputs": [
    {
     "name": "stdout",
     "output_type": "stream",
     "text": [
      "[  0   2  10 200 200]\n",
      "[  0   2   5 200 200]\n"
     ]
    }
   ],
   "source": [
    "arr1 = arr.copy() #This would create a different array with different memory location\n",
    "\n",
    "arr1[2] = 10\n",
    "\n",
    "print(arr1)\n",
    "print(arr) # arr array is not updated"
   ]
  },
  {
   "cell_type": "code",
   "execution_count": 93,
   "id": "a3f4f498",
   "metadata": {},
   "outputs": [
    {
     "name": "stdout",
     "output_type": "stream",
     "text": [
      "[  0   4  10 400 400]\n",
      "[False False False  True  True]\n"
     ]
    }
   ],
   "source": [
    "print(arr*2)\n",
    "\n",
    "print(arr>100)"
   ]
  },
  {
   "cell_type": "code",
   "execution_count": 94,
   "id": "18548bd4",
   "metadata": {},
   "outputs": [
    {
     "data": {
      "text/plain": [
       "array([[0, 1, 2, 3, 4],\n",
       "       [5, 6, 7, 8, 9]])"
      ]
     },
     "execution_count": 94,
     "metadata": {},
     "output_type": "execute_result"
    }
   ],
   "source": [
    "np.arange(0,10).reshape(2,5)"
   ]
  },
  {
   "cell_type": "code",
   "execution_count": 106,
   "id": "a80072b4",
   "metadata": {},
   "outputs": [
    {
     "data": {
      "text/plain": [
       "array([[1, 1, 1, 1, 1],\n",
       "       [1, 1, 1, 1, 1]])"
      ]
     },
     "execution_count": 106,
     "metadata": {},
     "output_type": "execute_result"
    }
   ],
   "source": [
    "np.ones(4,dtype=int)\n",
    "\n",
    "np.ones((2,5),dtype=int)"
   ]
  },
  {
   "cell_type": "code",
   "execution_count": 139,
   "id": "5b5fcf02",
   "metadata": {},
   "outputs": [],
   "source": [
    "# Random Distribution\n",
    "\n",
    "arr_rand = np.random.rand(3,4)"
   ]
  },
  {
   "cell_type": "code",
   "execution_count": 18,
   "id": "b93cea06",
   "metadata": {},
   "outputs": [],
   "source": [
    "# Standard Normal Distribution\n",
    "# mean=0, standard deviation=1\n",
    "arr_randn = np.random.randn(3,4)"
   ]
  },
  {
   "cell_type": "code",
   "execution_count": 19,
   "id": "2eef2d60",
   "metadata": {},
   "outputs": [],
   "source": [
    "import seaborn as sns\n",
    "import pandas as pd"
   ]
  },
  {
   "cell_type": "code",
   "execution_count": 21,
   "id": "9a036527",
   "metadata": {},
   "outputs": [
    {
     "name": "stderr",
     "output_type": "stream",
     "text": [
      "C:\\Users\\Ziyaad\\AppData\\Local\\Temp\\ipykernel_2572\\3097506380.py:1: UserWarning: \n",
      "\n",
      "`distplot` is a deprecated function and will be removed in seaborn v0.14.0.\n",
      "\n",
      "Please adapt your code to use either `displot` (a figure-level function with\n",
      "similar flexibility) or `histplot` (an axes-level function for histograms).\n",
      "\n",
      "For a guide to updating your code to use the new functions, please see\n",
      "https://gist.github.com/mwaskom/de44147ed2974457ad6372750bbe5751\n",
      "\n",
      "  sns.distplot(pd.DataFrame(arr_randn))\n"
     ]
    },
    {
     "data": {
      "text/plain": [
       "<Axes: ylabel='Density'>"
      ]
     },
     "execution_count": 21,
     "metadata": {},
     "output_type": "execute_result"
    },
    {
     "data": {
      "image/png": "[encoded data removed]",
      "text/plain": [
       "<Figure size 640x480 with 1 Axes>"
      ]
     },
     "metadata": {},
     "output_type": "display_data"
    }
   ],
   "source": [
    "sns.distplot(pd.DataFrame(arr_randn))"
   ]
  },
  {
   "cell_type": "code",
   "execution_count": 143,
   "id": "c59a70be",
   "metadata": {},
   "outputs": [
    {
     "name": "stderr",
     "output_type": "stream",
     "text": [
      "C:\\Users\\Ziyaad\\AppData\\Local\\Temp\\ipykernel_54032\\3097506380.py:1: UserWarning: \n",
      "\n",
      "`distplot` is a deprecated function and will be removed in seaborn v0.14.0.\n",
      "\n",
      "Please adapt your code to use either `displot` (a figure-level function with\n",
      "similar flexibility) or `histplot` (an axes-level function for histograms).\n",
      "\n",
      "For a guide to updating your code to use the new functions, please see\n",
      "https://gist.github.com/mwaskom/de44147ed2974457ad6372750bbe5751\n",
      "\n",
      "  sns.distplot(pd.DataFrame(arr_randn))\n"
     ]
    },
    {
     "data": {
      "text/plain": [
       "<Axes: ylabel='Density'>"
      ]
     },
     "execution_count": 143,
     "metadata": {},
     "output_type": "execute_result"
    },
    {
     "data": {
      "image/png": "[encoded data removed]",
      "text/plain": [
       "<Figure size 640x480 with 1 Axes>"
      ]
     },
     "metadata": {},
     "output_type": "display_data"
    }
   ],
   "source": [
    "sns.distplot(pd.DataFrame(arr_randn))"
   ]
  },
  {
   "cell_type": "code",
   "execution_count": 144,
   "id": "5a81e1fd",
   "metadata": {},
   "outputs": [
    {
     "data": {
      "text/plain": [
       "array([92, 70, 82, 30, 48, 88, 23, 50])"
      ]
     },
     "execution_count": 144,
     "metadata": {},
     "output_type": "execute_result"
    }
   ],
   "source": [
    "np.random.randint(0,100,8) #Generate 8 int number between 0 to 100"
   ]
  },
  {
   "cell_type": "code",
   "execution_count": 148,
   "id": "e052ff58",
   "metadata": {},
   "outputs": [
    {
     "data": {
      "text/plain": [
       "array([[0.63914484, 0.66109168, 0.44484851, 0.0559851 ],\n",
       "       [0.83414221, 0.21072684, 0.19527635, 0.65363565],\n",
       "       [0.75299504, 0.32812573, 0.72933531, 0.96821194]])"
      ]
     },
     "execution_count": 148,
     "metadata": {},
     "output_type": "execute_result"
    }
   ],
   "source": [
    "np.random.random_sample((3,4))"
   ]
  },
  {
   "cell_type": "markdown",
   "id": "b64b01a5",
   "metadata": {},
   "source": [
    "Practice Questions"
   ]
  },
  {
   "cell_type": "code",
   "execution_count": null,
   "id": "0acb89a8",
   "metadata": {},
   "outputs": [],
   "source": [
    "# 1. Element-wise multiplication between 3D array a and 2D array b using broadcasting.\n",
    "a = np.random.rand(2, 3, 4)\n",
    "b = np.random.rand(3, 4)\n",
    "\n",
    "result = a * b\n",
    "print(result)\n"
   ]
  },
  {
   "cell_type": "code",
   "execution_count": null,
   "id": "47ac95ef",
   "metadata": {},
   "outputs": [],
   "source": [
    "#2. Perform element-wise operations (addition, subtraction, multiplication, and division) between two 2D arrays c and d using broadcasting.\n",
    "def elementwise_operations(c, d):\n",
    "    try:\n",
    "        addition = c + d\n",
    "        subtraction = c - d\n",
    "        multiplication = c * d\n",
    "        division = c / d\n",
    "        return addition, subtraction, multiplication, division\n",
    "    except ValueError:\n",
    "        return \"Broadcasting not possible with the given shapes.\"\n",
    "\n",
    "c = np.random.rand(3, 4)\n",
    "d = np.random.rand(3, 1)\n",
    "add, sub, mul, div = elementwise_operations(c, d)\n",
    "print(add, sub, mul, div)\n"
   ]
  },
  {
   "cell_type": "code",
   "execution_count": null,
   "id": "4d484af4",
   "metadata": {},
   "outputs": [],
   "source": [
    "# 3. Compute the outer product of 2D array e and 1D array f using broadcasting.\n",
    "e = np.random.rand(5, 3)\n",
    "f = np.random.rand(5)\n",
    "print(e,f)\n",
    "\n",
    "outer_product = e[:, :, np.newaxis] * f[np.newaxis, :, np.newaxis]\n",
    "print(outer_product)\n"
   ]
  },
  {
   "cell_type": "code",
   "execution_count": null,
   "id": "7e6e5286",
   "metadata": {},
   "outputs": [],
   "source": [
    "# 4. Extract every other element along the first and second dimensions of a 3D array g.\n",
    "\n",
    "g = np.random.rand(4, 3, 2)\n",
    "\n",
    "extracted = g[::2, ::2, :]\n",
    "print(extracted)"
   ]
  },
  {
   "cell_type": "code",
   "execution_count": null,
   "id": "3eb79034",
   "metadata": {},
   "outputs": [],
   "source": [
    "# 5. Function that returns a new array where each element is the sum of the elements along the diagonal specified by row indices i and column indices j.\n",
    "def diagonal_sum(h, i, j):\n",
    "    k = np.array([h[row, col] for row, col in zip(i, j)])\n",
    "    return k\n",
    "\n",
    "# Example usage\n",
    "h = np.random.rand(5, 5)\n",
    "i = np.array([0, 1, 2, 3, 4])\n",
    "j = np.array([0, 1, 2, 3, 4])\n",
    "k = diagonal_sum(h, i, j)\n",
    "print(k)\n"
   ]
  },
  {
   "cell_type": "code",
   "execution_count": null,
   "id": "630afa63",
   "metadata": {},
   "outputs": [],
   "source": [
    "# 6. Function that returns a new array where each element is the product of the corresponding row and column means in a 2D array l.\n",
    "def row_col_mean_product(l):\n",
    "    row_means = l.mean(axis=1)\n",
    "    col_means = l.mean(axis=0)\n",
    "    result = np.outer(row_means, col_means)\n",
    "    return result\n",
    "\n",
    "# Example usage\n",
    "l = np.random.rand(4, 5)\n",
    "m = row_col_mean_product(l)\n",
    "print(m)\n"
   ]
  },
  {
   "cell_type": "code",
   "execution_count": null,
   "id": "a5218ab2",
   "metadata": {},
   "outputs": [],
   "source": [
    "# 7. Reshape a 2D array n into a 3D array and then flatten it back to 2D.\n",
    "# Given array\n",
    "n = np.random.rand(4, 6)\n",
    "\n",
    "# Reshape to (2, 2, 6)\n",
    "reshaped = n.reshape(2, 2, 6)\n",
    "\n",
    "# Flatten back to (4, 6)\n",
    "flattened = reshaped.reshape(4, 6)\n",
    "print(flattened)\n"
   ]
  },
  {
   "cell_type": "code",
   "execution_count": null,
   "id": "6c0718dd",
   "metadata": {},
   "outputs": [],
   "source": [
    "# 8. Function that rolls a 2D array o along the first axis by a specified number of positions.\n",
    "def roll_array(o, num_positions):\n",
    "    rolled = np.roll(o, num_positions, axis=0)\n",
    "    return rolled\n",
    "\n",
    "# Example usage\n",
    "o = np.array([[1, 2, 3], [4, 5, 6]])\n",
    "rolled = roll_array(o, 1)\n",
    "print(rolled)\n"
   ]
  },
  {
   "cell_type": "code",
   "execution_count": null,
   "id": "51158610",
   "metadata": {},
   "outputs": [],
   "source": [
    "# 9. Function that replaces all occurrences of a specified value x with the mean of the neighboring elements in a 2D array p.\n",
    "def replace_with_neighbor_mean(p, x):\n",
    "    p = np.array(p, dtype=float)  # Ensure it's float to handle NaN\n",
    "    mask = (p == x)\n",
    "    padded = np.pad(p, pad_width=1, mode='constant', constant_values=np.nan)\n",
    "    \n",
    "    for (i, j) in np.argwhere(mask):\n",
    "        neighbors = padded[i:i+3, j:j+3]\n",
    "        p[i, j] = np.nanmean(neighbors)\n",
    "    \n",
    "    return p\n",
    "\n",
    "# Example usage\n",
    "p = np.array([[1, 2, 3], [4, 5, 6], [7, 8, 9]])\n",
    "x = 5\n",
    "replaced = replace_with_neighbor_mean(p, x)\n",
    "print(replaced)\n"
   ]
  },
  {
   "cell_type": "markdown",
   "id": "4053fad9",
   "metadata": {},
   "source": []
  }
 ],
 "metadata": {
  "kernelspec": {
   "display_name": "Python 3 (ipykernel)",
   "language": "python",
   "name": "python3"
  },
  "language_info": {
   "codemirror_mode": {
    "name": "ipython",
    "version": 3
   },
   "file_extension": ".py",
   "mimetype": "text/x-python",
   "name": "python",
   "nbconvert_exporter": "python",
   "pygments_lexer": "ipython3",
   "version": "3.11.5"
  }
 },
 "nbformat": 4,
 "nbformat_minor": 5
}
