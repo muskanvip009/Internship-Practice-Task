{
 "cells": [
  {
   "cell_type": "markdown",
   "metadata": {},
   "source": [
    "## Example of a method and class "
   ]
  },
  {
   "cell_type": "code",
   "execution_count": 3,
   "metadata": {},
   "outputs": [
    {
     "name": "stdout",
     "output_type": "stream",
     "text": [
      "3\n"
     ]
    }
   ],
   "source": [
    "class demo:\n",
    "    def add(self,a,b):\n",
    "        return a+b\n",
    "\n",
    "ans=demo()\n",
    "print(ans.add(1,2))\n",
    "    "
   ]
  },
  {
   "cell_type": "markdown",
   "metadata": {},
   "source": [
    "## STATIC METHOD + CLASS \n"
   ]
  },
  {
   "cell_type": "code",
   "execution_count": 4,
   "metadata": {},
   "outputs": [
    {
     "name": "stdout",
     "output_type": "stream",
     "text": [
      "True\n",
      "True\n"
     ]
    }
   ],
   "source": [
    "class MathUtils:\n",
    "    @staticmethod\n",
    "    def is_even(num):\n",
    "        return num % 2 == 0\n",
    "\n",
    "    @staticmethod\n",
    "    def is_odd(num):\n",
    "        if num % 2 != 0:\n",
    "            return True\n",
    "\n",
    "# Calling static methods\n",
    "print(MathUtils.is_even(4))  \n",
    "print(MathUtils.is_odd(7))  "
   ]
  },
  {
   "cell_type": "markdown",
   "metadata": {},
   "source": [
    "## usage of __init__ method"
   ]
  },
  {
   "cell_type": "code",
   "execution_count": 5,
   "metadata": {},
   "outputs": [
    {
     "name": "stdout",
     "output_type": "stream",
     "text": [
      "34\n",
      "25\n"
     ]
    }
   ],
   "source": [
    "class V:\n",
    "    def __init__(self, km , avg):\n",
    "        self.km=km\n",
    "        self.avg=avg\n",
    "\n",
    "V1=V(34, 25)\n",
    "print(V1.km) \n",
    "print(V1.avg)  "
   ]
  },
  {
   "cell_type": "markdown",
   "metadata": {},
   "source": [
    "## Constructor and Deconstructor"
   ]
  },
  {
   "cell_type": "code",
   "execution_count": 6,
   "metadata": {},
   "outputs": [
    {
     "name": "stdout",
     "output_type": "stream",
     "text": [
      "Vehicle Toyota Camry (2020) created.\n",
      "Vehicle Toyota Camry (2020) destroyed.\n"
     ]
    }
   ],
   "source": [
    "class Vehicle:\n",
    "    def __init__(self, make, model, year):  \n",
    "        self.make = make  \n",
    "        self.model = model\n",
    "        self.year = year  \n",
    "        print(f\"Vehicle {self.make} {self.model} ({self.year}) created.\") \n",
    "\n",
    "    def __del__(self):  # Defining the destructor method\n",
    "        print(f\"Vehicle {self.make} {self.model} ({self.year}) destroyed.\")  \n",
    "\n",
    "# Creating an instance of the Vehicle class\n",
    "car = Vehicle(\"Toyota\", \"Camry\", 2020) \n",
    "\n",
    "# Deleting the car instance\n",
    "del car  \n"
   ]
  },
  {
   "cell_type": "markdown",
   "metadata": {},
   "source": [
    "## Constructor with arguments\n"
   ]
  },
  {
   "cell_type": "code",
   "execution_count": 9,
   "metadata": {},
   "outputs": [
    {
     "name": "stdout",
     "output_type": "stream",
     "text": [
      "Vehicle BMW with average 30 created.\n"
     ]
    }
   ],
   "source": [
    "class VehicleWithArgs:\n",
    "    def __init__(self, name, avg):\n",
    "        self.name = name\n",
    "        self.avg = avg\n",
    "        print(f\"Vehicle {self.name} with average {self.avg} created.\")\n",
    "\n",
    "car_with_args = VehicleWithArgs(\"BMW\", 30)\n",
    "del car_with_args\n"
   ]
  },
  {
   "cell_type": "markdown",
   "metadata": {},
   "source": [
    "## Constructor without arguments\n"
   ]
  },
  {
   "cell_type": "code",
   "execution_count": 8,
   "metadata": {},
   "outputs": [
    {
     "name": "stdout",
     "output_type": "stream",
     "text": [
      "Vehicle Unknown with average 0 created.\n"
     ]
    }
   ],
   "source": [
    "\n",
    "class VehicleWithoutArgs:\n",
    "    def __init__(self):\n",
    "        self.name = \"Unknown\"\n",
    "        self.avg = 0\n",
    "        print(f\"Vehicle {self.name} with average {self.avg} created.\")\n",
    "\n",
    "car_without_args = VehicleWithoutArgs()\n",
    "del car_without_args"
   ]
  },
  {
   "cell_type": "markdown",
   "metadata": {},
   "source": [
    "## Constructor with default arguments\n"
   ]
  },
  {
   "cell_type": "code",
   "execution_count": 10,
   "metadata": {},
   "outputs": [
    {
     "name": "stdout",
     "output_type": "stream",
     "text": [
      "Vehicle MUSTANG with average 25 created.\n",
      "Vehicle BMW with average 20 created.\n"
     ]
    }
   ],
   "source": [
    "class VehicleWithDefaultArgs:\n",
    "    def __init__(self, name=\"MUSTANG\", avg=25):\n",
    "        self.name = name\n",
    "        self.avg = avg\n",
    "        print(f\"Vehicle {self.name} with average {self.avg} created.\")\n",
    "\n",
    "car_with_default_args = VehicleWithDefaultArgs()\n",
    "del car_with_default_args\n",
    "\n",
    "car_with_custom_args = VehicleWithDefaultArgs(\"BMW\", 20)\n",
    "del car_with_custom_args"
   ]
  },
  {
   "cell_type": "markdown",
   "metadata": {},
   "source": [
    "## METHOD OVERLOADING"
   ]
  },
  {
   "cell_type": "code",
   "execution_count": 13,
   "metadata": {},
   "outputs": [
    {
     "name": "stdout",
     "output_type": "stream",
     "text": [
      "Brand: XYZ, Model: 123, Price after discount: 30000\n",
      "Brand: XYZ, Model: 123, Price after discount: 28000\n"
     ]
    }
   ],
   "source": [
    "class Vehicle:\n",
    "    def __init__(self, brand, model, price):\n",
    "        self.brand = brand\n",
    "        self.model = model\n",
    "        self.__price = price\n",
    "\n",
    "    def get_price(self):\n",
    "        return self.__price\n",
    "\n",
    "    def set_price(self, new_price):\n",
    "        if new_price > 0:\n",
    "            self.__price = new_price\n",
    "        else:\n",
    "            print(\"Invalid price\")\n",
    "\n",
    "    def sale_info(self, discount=0):\n",
    "        discounted_price = self.__price - discount\n",
    "        print(f\"Brand: {self.brand}, Model: {self.model}, Price after discount: {discounted_price}\")\n",
    "\n",
    "\n",
    "car = Vehicle(\"XYZ\", \"123\", 30000)\n",
    "car.sale_info()  \n",
    "car.sale_info(2000) \n"
   ]
  },
  {
   "cell_type": "markdown",
   "metadata": {},
   "source": [
    "## METHOD ABSTRACTION"
   ]
  },
  {
   "cell_type": "code",
   "execution_count": 12,
   "metadata": {},
   "outputs": [
    {
     "name": "stdout",
     "output_type": "stream",
     "text": [
      "30000\n",
      "35000\n"
     ]
    }
   ],
   "source": [
    "class Vehicle:\n",
    "    def __init__(self, brand, model, price):\n",
    "        self.brand = brand\n",
    "        self.model = model\n",
    "        self.__price = price\n",
    "    \n",
    "    \n",
    "    def get_price(self):\n",
    "        return self.__price\n",
    "    \n",
    "    def set_price(self, new_price):\n",
    "        if new_price > 0:\n",
    "            self.__price = new_price\n",
    "        else:\n",
    "            print(\"Invalid price\")\n",
    "car = Vehicle(\"BMW\", \"123123\", 30000)\n",
    "print(car.get_price())\n",
    "car.set_price(35000)\n",
    "print(car.get_price())"
   ]
  },
  {
   "cell_type": "code",
   "execution_count": null,
   "metadata": {},
   "outputs": [],
   "source": []
  }
 ],
 "metadata": {
  "kernelspec": {
   "display_name": "Python 3",
   "language": "python",
   "name": "python3"
  },
  "language_info": {
   "codemirror_mode": {
    "name": "ipython",
    "version": 3
   },
   "file_extension": ".py",
   "mimetype": "text/x-python",
   "name": "python",
   "nbconvert_exporter": "python",
   "pygments_lexer": "ipython3",
   "version": "3.12.3"
  }
 },
 "nbformat": 4,
 "nbformat_minor": 2
}
